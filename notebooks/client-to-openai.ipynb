{
  "cells": [
    {
      "cell_type": "markdown",
      "metadata": {},
      "source": [
        "<a href=\"https://colab.research.google.com/github/kyledinh/gpt-prive/blob/main/notebookds/client-to-openai.ipynb\" target=\"_parent\"><img src=\"https://colab.research.google.com/assets/colab-badge.svg\" alt=\"Open In Colab\"/></a>"
      ]
    },
    {
      "cell_type": "code",
      "execution_count": null,
      "metadata": {
        "colab": {
          "base_uri": "https://localhost:8080/"
        },
        "id": "N3BsR0ktOVFo",
        "outputId": "43958e6f-e0ff-46f4-a7e3-0e66b7d4188c"
      },
      "outputs": [],
      "source": [
        "%pip install -U openai python-dotenv"
      ]
    },
    {
      "cell_type": "code",
      "execution_count": null,
      "metadata": {
        "id": "zDNzF_biO3VF"
      },
      "outputs": [],
      "source": [
        "import openai\n",
        "\n",
        "# Load .env variables\n",
        "import os\n",
        "from dotenv import load_dotenv, find_dotenv\n",
        "_ = load_dotenv(find_dotenv())\n",
        "\n",
        "OPENAI_API_KEY = os.getenv(\"OPENAI_API_KEY\", \"if-set-in-env-file\")\n",
        " \n",
        "assert OPENAI_API_KEY.startswith(\"sk-\"), \"This doesn't look like a valid OpenAI key\"\n",
        "print(\"OPENAI_API_KEY configured\")\n",
        "openai.api_key = OPENAI_API_KEY\n",
        "\n",
        "#returns a list of all OpenAI models\n",
        "models = openai.Model.list()\n",
        "print(models)"
      ]
    },
    {
      "cell_type": "markdown",
      "metadata": {
        "id": "X5_PdgpVQRVf"
      },
      "source": [
        "Non-streaming Example"
      ]
    },
    {
      "cell_type": "code",
      "execution_count": null,
      "metadata": {},
      "outputs": [],
      "source": [
        "# converts the list of OpenAI models to a Pandas DataFrame\n",
        "import pandas as pd\n",
        "data = pd.DataFrame(models[\"data\"])\n",
        "data.head(20)"
      ]
    },
    {
      "cell_type": "code",
      "execution_count": null,
      "metadata": {},
      "outputs": [],
      "source": [
        "text = openai.Completion.create(\n",
        "  model=\"text-davinci-003\",\n",
        "  prompt=\"France is famous for its\",\n",
        "  max_tokens=15,\n",
        "  temperature=0\n",
        ")\n",
        "\n",
        "print(text)"
      ]
    }
  ],
  "metadata": {
    "colab": {
      "provenance": []
    },
    "kernelspec": {
      "display_name": "Python 3",
      "name": "python3"
    },
    "language_info": {
      "codemirror_mode": {
        "name": "ipython",
        "version": 3
      },
      "file_extension": ".py",
      "mimetype": "text/x-python",
      "name": "python",
      "nbconvert_exporter": "python",
      "pygments_lexer": "ipython3",
      "version": "3.10.0"
    }
  },
  "nbformat": 4,
  "nbformat_minor": 0
}
