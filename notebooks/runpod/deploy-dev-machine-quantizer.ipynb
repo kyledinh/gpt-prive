{
 "cells": [
  {
   "cell_type": "markdown",
   "metadata": {},
   "source": [
    "### Deploy Dev Machine Quantizer on RunPOD\n",
    "\n",
    "<a href=\"https://colab.research.google.com/github/kyledinh/gpt-prive/blob/main/notebookds/runpod/deploy-dev-machine-quantizer.ipynb\" target=\"_parent\"><img src=\"https://colab.research.google.com/assets/colab-badge.svg\" alt=\"Open In Colab\"/></a>\n",
    "\n",
    "### Install and import dependencies"
   ]
  },
  {
   "cell_type": "code",
   "execution_count": 1,
   "metadata": {
    "id": "1xWBBV67zPCb"
   },
   "outputs": [
    {
     "name": "stdout",
     "output_type": "stream",
     "text": [
      "Note: you may need to restart the kernel to use updated packages.\n",
      "Note: you may need to restart the kernel to use updated packages.\n",
      "Note: you may need to restart the kernel to use updated packages.\n",
      "Note: you may need to restart the kernel to use updated packages.\n"
     ]
    },
    {
     "name": "stderr",
     "output_type": "stream",
     "text": [
      "/Library/Frameworks/Python.framework/Versions/3.10/lib/python3.10/site-packages/tqdm/auto.py:21: TqdmWarning: IProgress not found. Please update jupyter and ipywidgets. See https://ipywidgets.readthedocs.io/en/stable/user_install.html\n",
      "  from .autonotebook import tqdm as notebook_tqdm\n"
     ]
    }
   ],
   "source": [
    "%pip install -Uqqq pip --progress-bar off\n",
    "%pip install -qqq runpod==0.10.0 --progress-bar off\n",
    "%pip install -qqq text-generation==0.6.0 --progress-bar off\n",
    "%pip install -qqq requests==2.31.0 --progress-bar off\n",
    "\n",
    "import requests\n",
    "import runpod\n",
    "from text_generation import Client"
   ]
  },
  {
   "cell_type": "markdown",
   "metadata": {},
   "source": [
    "#### Setup .env variables\n",
    "- Create an `.env` with your specific token from your account.\n",
    "- https://www.runpod.io/console/user/settings\n",
    "- https://huggingface.co/settings/tokens\n",
    "\n",
    "```\n",
    "RUNPOD_API_KEY=9M5OM37OK3N5OM37OK3N5OM37OK3NJ875OM37\n",
    "HF_ACCESS_TOKEN=hf_ENv5OM37OK3N5OM37OK3N5OM37OK3N5OM37OK3NT\n",
    "```"
   ]
  },
  {
   "cell_type": "code",
   "execution_count": 2,
   "metadata": {
    "id": "BXshcVfScXr1"
   },
   "outputs": [
    {
     "name": "stdout",
     "output_type": "stream",
     "text": [
      "HF_ACCESS_TOKEN: hf_ENv\n",
      "RUNPOD_API_KEY: 9MJ87C\n"
     ]
    }
   ],
   "source": [
    "import os\n",
    "from dotenv import load_dotenv, find_dotenv\n",
    "_ = load_dotenv(find_dotenv())\n",
    "\n",
    "HF_ACCESS_TOKEN = os.getenv(\"HF_ACCESS_TOKEN\", \"hf-some-token\")\n",
    "RUNPOD_API_KEY = os.getenv(\"RUNPOD_API_KEY\", \"add-here-if-not-set-in-env-file\")\n",
    " \n",
    "assert HF_ACCESS_TOKEN.startswith(\"hf_\"), \"This doesn't look like a valid Hugging Face Token\"\n",
    "assert not RUNPOD_API_KEY.startswith(\"add-here\"), \"This doesn't look like a valid Runpod API Key\"\n",
    "\n",
    "runpod.api_key = RUNPOD_API_KEY \n",
    "print(\"HF_ACCESS_TOKEN: \" + HF_ACCESS_TOKEN[0:6])\n",
    "print(\"RUNPOD_API_KEY: \" + runpod.api_key[0:6])"
   ]
  },
  {
   "cell_type": "markdown",
   "metadata": {},
   "source": [
    "#### Deploy to RunPod\n",
    "- https://www.runpod.io/console/pods"
   ]
  },
  {
   "cell_type": "code",
   "execution_count": 3,
   "metadata": {
    "colab": {
     "base_uri": "https://localhost:8080/"
    },
    "id": "8rH7Hfx_E3tP",
    "outputId": "56357af8-7460-4364-d0cd-1f40e840e893"
   },
   "outputs": [],
   "source": [
    "## TODO: update with proper settings.....\n",
    "\n",
    "podname = \"dev-machine-quantizer-48VRAM\"\n",
    "envs = {\"HUGGING_FACE_HUB_TOKEN\":HF_ACCESS_TOKEN, \"QUANTIZE\":\"gptq\"}\n",
    "\n",
    "model = \"TheBloke/Llama-2-7B-GPTQ\"\n",
    "gpu_type_id = \"NVIDIA RTX A6000\" # 48GB VRAM $0.79/hr\n",
    "gpu_count = 1\n",
    "\n",
    "# data_center_id=\"EU-RO-1\" | \"EU-CZ-1\" | \"US-KS-1\" | \"US-KS-2\",\n",
    "\n",
    "pod = runpod.create_pod(\n",
    "    name=podname,\n",
    "    image_name=\"runpod/pytorch:2.0.1-py3.10-cuda11.8.0-devel\",\n",
    "    gpu_type_id=gpu_type_id,\n",
    "    cloud_type=\"SECURE\",\n",
    "    data_center_id=\"US-KS-1\",\n",
    "    gpu_count=gpu_count,\n",
    "    volume_in_gb=50,\n",
    "    container_disk_in_gb=10,\n",
    "    ports=\"80/http,29500/http\",\n",
    "    volume_mount_path=\"/data\",\n",
    "    env=envs,\n",
    ")\n"
   ]
  },
  {
   "cell_type": "code",
   "execution_count": null,
   "metadata": {
    "colab": {
     "base_uri": "https://localhost:8080/"
    },
    "id": "LCHpvkP7xK-8",
    "outputId": "10010d02-7737-4e60-b51a-a3cc03e17225"
   },
   "outputs": [],
   "source": [
    "SERVER_URL = f'https://{pod[\"id\"]}-80.proxy.runpod.net'\n",
    "print(SERVER_URL)"
   ]
  },
  {
   "cell_type": "code",
   "execution_count": null,
   "metadata": {
    "id": "noBOoZWnQLpt"
   },
   "outputs": [],
   "source": [
    "# ssh into shell of instance \n",
    "# apt update \n",
    "# apt-get -y install vim"
   ]
  },
  {
   "cell_type": "markdown",
   "metadata": {
    "id": "PQy8bxQveGK9"
   },
   "source": [
    "## API"
   ]
  },
  {
   "cell_type": "code",
   "execution_count": null,
   "metadata": {
    "id": "owo7RuELe3aP"
   },
   "outputs": [],
   "source": [
    "runpod.terminate_pod(pod[\"id\"])"
   ]
  },
  {
   "cell_type": "markdown",
   "metadata": {
    "id": "1h1REGtGMc28"
   },
   "source": [
    "## References\n",
    "\n",
    "- https://www.runpod.io/console/gpu-secure-cloud\n",
    "- https://docs.runpod.io/docs/get-gpu-types\n",
    "- https://github.com/facebookresearch/llama\n",
    "- https://github.com/huggingface/text-generation-inference\n",
    "- https://github.com/runpod/runpod-python\n"
   ]
  }
 ],
 "metadata": {
  "colab": {
   "provenance": []
  },
  "kernelspec": {
   "display_name": "Python 3",
   "name": "python3"
  },
  "language_info": {
   "codemirror_mode": {
    "name": "ipython",
    "version": 3
   },
   "file_extension": ".py",
   "mimetype": "text/x-python",
   "name": "python",
   "nbconvert_exporter": "python",
   "pygments_lexer": "ipython3",
   "version": "3.10.0"
  }
 },
 "nbformat": 4,
 "nbformat_minor": 0
}
